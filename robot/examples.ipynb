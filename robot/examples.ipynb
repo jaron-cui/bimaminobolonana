{
 "cells": [
  {
   "cell_type": "markdown",
   "id": "ffbff6b3",
   "metadata": {},
   "source": [
    "# Examples for MuJoCo and Bimanual Sim Usage"
   ]
  },
  {
   "cell_type": "markdown",
   "id": "44283eba",
   "metadata": {},
   "source": [
    "This notebook contains convenient introductory examples of simulation classes usage and best practices.\n",
    "\n",
    "1. Start off by running the first cell below.\n",
    "2. Then, you should be able to run any cell in the notebook individually."
   ]
  },
  {
   "cell_type": "code",
   "execution_count": 1,
   "id": "ef99c0ce",
   "metadata": {},
   "outputs": [],
   "source": [
    "%load_ext autoreload\n",
    "%autoreload 2\n",
    "\n",
    "import os\n",
    "import sys\n",
    "from pathlib import Path\n",
    "sys.path.append(str(Path(os.getcwd()).parent.absolute()))"
   ]
  },
  {
   "cell_type": "markdown",
   "id": "87e71a7d",
   "metadata": {},
   "source": [
    "### Low-level MuJoCo Model Instantiation"
   ]
  },
  {
   "cell_type": "code",
   "execution_count": 23,
   "id": "fd8df6a9",
   "metadata": {},
   "outputs": [
    {
     "name": "stdout",
     "output_type": "stream",
     "text": [
      "data.qpos contains the positions of all joints: [0. 0. 0. 0. 0. 0. 0. 0. 0. 0. 0. 0. 0. 0. 0. 0.]\n",
      "data.ctrl contains all actuator control signals: [0. 0. 0. 0. 0. 0. 0. 0. 0. 0. 0. 0. 0. 0.]\n"
     ]
    }
   ],
   "source": [
    "import mujoco\n",
    "import mujoco.viewer\n",
    "from robot_descriptions import aloha_mj_description\n",
    "from xml.etree import ElementTree as ET\n",
    "\n",
    "# load the bimanual MuJoCo scene directly from the third-party package\n",
    "model = mujoco.MjModel.from_xml_path(aloha_mj_description.MJCF_PATH)\n",
    "data = mujoco.MjData(model)\n",
    "\n",
    "print('data.qpos contains the positions of all joints:', data.qpos)\n",
    "print('data.ctrl contains all actuator control signals:', data.ctrl)\n",
    "\n",
    "# launch an interactive viewer\n",
    "mujoco.viewer.launch(model, data)"
   ]
  },
  {
   "cell_type": "markdown",
   "id": "35207c97",
   "metadata": {},
   "source": [
    "### The BimanualSim Class"
   ]
  },
  {
   "cell_type": "code",
   "execution_count": 24,
   "id": "3ae49e72",
   "metadata": {},
   "outputs": [
    {
     "name": "stdout",
     "output_type": "stream",
     "text": [
      "Moving the green sphere indicator to the right gripper position: [ 0.36478541 -0.019       0.4696409 ]\n"
     ]
    }
   ],
   "source": [
    "from pathlib import Path\n",
    "from kinematics import parse_kinematic_chain, forward\n",
    "from robot.sim import BimanualSim\n",
    "from robot_descriptions import aloha_mj_description\n",
    "\n",
    "# create the bimanual simulation, but also import a red block and noncolliding green sphere\n",
    "with BimanualSim(merge_xml_files=[Path('block.xml'), Path('indicator.xml')]) as sim:\n",
    "  # set the position of the green sphere\n",
    "  k = parse_kinematic_chain(aloha_mj_description.MJCF_PATH, 'right/base_link', 'right/gripper_base')\n",
    "  joint_pos, joint_quat = forward(k, sim.data.qpos[8:14])\n",
    "  sim.data.mocap_pos[0] = joint_pos[-1]\n",
    "  print('Moving the green sphere indicator to the right gripper position:', joint_pos[-1])\n",
    "\n",
    "  # launch an interactive viewer\n",
    "  sim.launch_viewer()"
   ]
  },
  {
   "cell_type": "markdown",
   "id": "d3aa5164",
   "metadata": {},
   "source": [
    "### Rollout a Handcrafted Block-Passing Policy in an Interactive Viewer"
   ]
  },
  {
   "cell_type": "code",
   "execution_count": 25,
   "id": "840a4230",
   "metadata": {},
   "outputs": [],
   "source": [
    "import mujoco\n",
    "import mujoco.viewer\n",
    "from pathlib import Path\n",
    "from robot.sim import BimanualSim\n",
    "\n",
    "from policy.privileged_policy import PrivilegedPolicy\n",
    "\n",
    "with BimanualSim(merge_xml_files=[Path('block.xml')]) as sim:\n",
    "  policy = PrivilegedPolicy(sim.model, sim.data)\n",
    "\n",
    "  prev_time = sim.data.time\n",
    "  obs = sim.get_obs()\n",
    "  with mujoco.viewer.launch_passive(sim.model, sim.data) as viewer:\n",
    "    while viewer.is_running():\n",
    "      if sim.data.time < prev_time:\n",
    "        sim.reset()\n",
    "      prev_time = sim.data.time\n",
    "\n",
    "      # ubiquitous obs+action sim step loop\n",
    "      action = policy(obs)\n",
    "      obs = sim.step(action)\n",
    "\n",
    "      viewer.sync()"
   ]
  },
  {
   "cell_type": "markdown",
   "id": "5638e803",
   "metadata": {},
   "source": [
    "### Time a Rollout"
   ]
  },
  {
   "cell_type": "code",
   "execution_count": 26,
   "id": "20114fce",
   "metadata": {},
   "outputs": [
    {
     "name": "stdout",
     "output_type": "stream",
     "text": [
      "One rollout of the privileged policy for 400 steps took 80.67 seconds.\n"
     ]
    }
   ],
   "source": [
    "import time\n",
    "\n",
    "with BimanualSim(merge_xml_files=[Path('block.xml')]) as sim:\n",
    "  policy = PrivilegedPolicy(sim.model, sim.data)\n",
    "\n",
    "  start = time.perf_counter()\n",
    "  sim.rollout(policy, 400)\n",
    "\n",
    "print(f'One rollout of the privileged policy for 400 steps took {time.perf_counter() - start:.2f} seconds.')"
   ]
  },
  {
   "cell_type": "markdown",
   "id": "11add435",
   "metadata": {},
   "source": [
    "### Rendering Rollout Observations"
   ]
  },
  {
   "cell_type": "code",
   "execution_count": 33,
   "id": "0e489a9c",
   "metadata": {},
   "outputs": [],
   "source": [
    "import os\n",
    "from typing import List\n",
    "import numpy as np\n",
    "import cv2\n",
    "from IPython.display import Video\n",
    "from sim import BimanualSim\n",
    "\n",
    "image_dims = (256, 256)  # h x w\n",
    "sim_steps = 450\n",
    "\n",
    "sim = BimanualSim(merge_xml_files=['block.xml'], camera_dims=image_dims, obs_camera_names=['wrist_cam_left', 'wrist_cam_right'])\n",
    "policy = PrivilegedPolicy(sim.model, sim.data)\n",
    "\n",
    "# rollout simulation for 450 steps\n",
    "left_wrist_frames, right_wrist_frames = [], []\n",
    "obs = sim.get_obs()\n",
    "for sim_step in range(sim_steps):\n",
    "  left_wrist_frames.append(obs.visual[0])\n",
    "  right_wrist_frames.append(obs.visual[1])\n",
    "  action = policy(obs)\n",
    "  obs = sim.step(action)\n",
    "del sim\n",
    "\n",
    "# save frames to video\n",
    "def save_frames_to_video(frames: List[np.ndarray], video_file_name: str) -> str:\n",
    "  os.makedirs('out', exist_ok=True)\n",
    "  video_path = f'out/{video_file_name}'\n",
    "  video_writer = cv2.VideoWriter(video_path, cv2.VideoWriter.fourcc(*'H264'), 20, tuple(reversed(image_dims)))\n",
    "  for frame in frames:\n",
    "    video_writer.write(cv2.cvtColor(frame.astype(np.uint8), cv2.COLOR_RGB2BGR))\n",
    "  video_writer.release()\n",
    "  return video_path\n",
    "\n",
    "left_wrist_video_path = save_frames_to_video(left_wrist_frames, 'example-bimanual-rollout-left.mp4')\n",
    "right_wrist_video_path = save_frames_to_video(right_wrist_frames, 'example-bimanual-rollout-right.mp4')"
   ]
  },
  {
   "cell_type": "code",
   "execution_count": null,
   "id": "83a440ea",
   "metadata": {},
   "outputs": [
    {
     "data": {
      "text/html": [
       "<video src=\"out/example-bimanual-rollout-left.mp4\" controls  width=\"256\"  height=\"256\">\n",
       "      Your browser does not support the <code>video</code> element.\n",
       "    </video>"
      ],
      "text/plain": [
       "<IPython.core.display.Video object>"
      ]
     },
     "execution_count": 34,
     "metadata": {},
     "output_type": "execute_result"
    }
   ],
   "source": [
    "Video(left_wrist_video_path, width=image_dims[1], height=image_dims[0])"
   ]
  },
  {
   "cell_type": "code",
   "execution_count": 35,
   "id": "56ccb262",
   "metadata": {},
   "outputs": [
    {
     "data": {
      "text/html": [
       "<video src=\"out/example-bimanual-rollout-right.mp4\" controls  width=\"256\"  height=\"256\">\n",
       "      Your browser does not support the <code>video</code> element.\n",
       "    </video>"
      ],
      "text/plain": [
       "<IPython.core.display.Video object>"
      ]
     },
     "execution_count": 35,
     "metadata": {},
     "output_type": "execute_result"
    }
   ],
   "source": [
    "Video(right_wrist_video_path, width=image_dims[1], height=image_dims[0])"
   ]
  }
 ],
 "metadata": {
  "kernelspec": {
   "display_name": "dev",
   "language": "python",
   "name": "python3"
  },
  "language_info": {
   "codemirror_mode": {
    "name": "ipython",
    "version": 3
   },
   "file_extension": ".py",
   "mimetype": "text/x-python",
   "name": "python",
   "nbconvert_exporter": "python",
   "pygments_lexer": "ipython3",
   "version": "3.10.18"
  }
 },
 "nbformat": 4,
 "nbformat_minor": 5
}
