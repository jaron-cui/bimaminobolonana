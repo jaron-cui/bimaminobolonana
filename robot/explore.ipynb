{
 "cells": [
  {
   "cell_type": "markdown",
   "id": "ffbff6b3",
   "metadata": {},
   "source": [
    "# Examples for MuJoCo and Bimanual Sim Usage"
   ]
  },
  {
   "cell_type": "code",
   "execution_count": 1,
   "id": "ef99c0ce",
   "metadata": {},
   "outputs": [],
   "source": [
    "%load_ext autoreload\n",
    "%autoreload 2"
   ]
  },
  {
   "cell_type": "markdown",
   "id": "87e71a7d",
   "metadata": {},
   "source": [
    "### Low-level MuJoCo Model Instantiation"
   ]
  },
  {
   "cell_type": "code",
   "execution_count": null,
   "id": "fd8df6a9",
   "metadata": {},
   "outputs": [],
   "source": [
    "import os\n",
    "import mujoco\n",
    "import mujoco.viewer\n",
    "\n",
    "from robot_descriptions import aloha_mj_description\n",
    "\n",
    "# instantiate the MuJoCo bimanual simulation model.\n",
    "from xml.etree import ElementTree as ET\n",
    "\n",
    "model = mujoco.MjModel.from_xml_path(aloha_mj_description.MJCF_PATH)\n",
    "data = mujoco.MjData(model)\n",
    "\n",
    "# launch an interactive viewer.\n",
    "mujoco.viewer.launch(model, data)"
   ]
  },
  {
   "cell_type": "code",
   "execution_count": null,
   "id": "f46d3b89",
   "metadata": {},
   "outputs": [
    {
     "data": {
      "text/plain": [
       "array([-1.24866767e-02, -9.85510335e-02,  1.00000000e+00,  8.35067762e-02,\n",
       "        1.49315150e-01, -7.94138101e-02,  3.74128540e-02,  4.02052328e-02,\n",
       "       -8.73947428e-04,  1.06232035e-01, -1.28021856e-01, -1.63744567e-02,\n",
       "       -4.58504852e-02, -8.15300697e-02,  3.46516773e-02,  3.86005880e-02])"
      ]
     },
     "execution_count": 4,
     "metadata": {},
     "output_type": "execute_result"
    }
   ],
   "source": [
    "data.qpos"
   ]
  },
  {
   "cell_type": "code",
   "execution_count": null,
   "id": "8bab7a87",
   "metadata": {},
   "outputs": [
    {
     "data": {
      "text/plain": [
       "array([ 0.1571  , -0.591665,  0.039415,  0.34562 ,  0.819155, -0.12568 ,\n",
       "        0.      ,  0.      ,  0.      ,  0.      ,  0.      ,  0.      ,\n",
       "        0.      ,  0.      ])"
      ]
     },
     "execution_count": 3,
     "metadata": {},
     "output_type": "execute_result"
    }
   ],
   "source": [
    "data.ctrl"
   ]
  },
  {
   "cell_type": "code",
   "execution_count": null,
   "id": "3ae49e72",
   "metadata": {},
   "outputs": [],
   "source": [
    "from pathlib import Path\n",
    "from sim import BimanualSim\n",
    "\n",
    "sim = BimanualSim(merge_xml_files=[Path('block.xml')])\n",
    "sim.launch_viewer()"
   ]
  },
  {
   "cell_type": "markdown",
   "id": "11add435",
   "metadata": {},
   "source": [
    "## BimanualSim Policy Deployment"
   ]
  },
  {
   "cell_type": "code",
   "execution_count": 3,
   "id": "0e489a9c",
   "metadata": {},
   "outputs": [
    {
     "data": {
      "text/html": [
       "<video src=\"out/example-bimanual-rollout.mp4\" controls  width=\"640\"  height=\"480\">\n",
       "      Your browser does not support the <code>video</code> element.\n",
       "    </video>"
      ],
      "text/plain": [
       "<IPython.core.display.Video object>"
      ]
     },
     "execution_count": 3,
     "metadata": {},
     "output_type": "execute_result"
    }
   ],
   "source": [
    "import os\n",
    "import numpy as np\n",
    "import cv2\n",
    "from IPython.display import Video\n",
    "from sim import BimanualObs, BimanualSim\n",
    "\n",
    "image_dims = (480, 640)  # h x w\n",
    "\n",
    "\n",
    "def toy_policy(obs: BimanualObs) -> np.ndarray:\n",
    "  # simply set the target to the current joint positions + 0.01\n",
    "  return obs.qpos[list(range(7)) + list(range(8, 15))] + 0.01\n",
    "\n",
    "# rollout simulation for 30 steps\n",
    "sim = BimanualSim(camera_dims=image_dims, obs_camera_names=['wrist_cam_left'])\n",
    "left_wrist_frames = []\n",
    "\n",
    "obs = sim.get_obs()\n",
    "for sim_step in range(30):\n",
    "  left_wrist_frames.append(obs.visual[0])\n",
    "  action = toy_policy(obs)\n",
    "  obs = sim.step(action)\n",
    "\n",
    "# save frames to video\n",
    "os.makedirs('out', exist_ok=True)\n",
    "video_path = 'out/example-bimanual-rollout.mp4'\n",
    "video_writer = cv2.VideoWriter(video_path, cv2.VideoWriter.fourcc(*'H264'), 20, tuple(reversed(image_dims)))\n",
    "for frame in left_wrist_frames:\n",
    "  video_writer.write(cv2.cvtColor(frame.astype(np.uint8), cv2.COLOR_RGB2BGR))\n",
    "video_writer.release()\n",
    "Video(video_path, width=image_dims[1], height=image_dims[0])"
   ]
  }
 ],
 "metadata": {
  "kernelspec": {
   "display_name": "dev",
   "language": "python",
   "name": "python3"
  },
  "language_info": {
   "codemirror_mode": {
    "name": "ipython",
    "version": 3
   },
   "file_extension": ".py",
   "mimetype": "text/x-python",
   "name": "python",
   "nbconvert_exporter": "python",
   "pygments_lexer": "ipython3",
   "version": "3.10.18"
  }
 },
 "nbformat": 4,
 "nbformat_minor": 5
}
